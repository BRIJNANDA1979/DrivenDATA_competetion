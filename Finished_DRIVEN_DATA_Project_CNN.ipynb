{
  "nbformat": 4,
  "nbformat_minor": 0,
  "metadata": {
    "colab": {
      "provenance": [],
      "machine_shape": "hm",
      "mount_file_id": "1FQQGd4lMissaLTsUV7HNnDjzd7teeHqx",
      "authorship_tag": "ABX9TyNEToK5KlwyCJxeMZGYRC1g",
      "include_colab_link": true
    },
    "kernelspec": {
      "name": "python3",
      "display_name": "Python 3"
    },
    "language_info": {
      "name": "python"
    },
    "accelerator": "TPU"
  },
  "cells": [
    {
      "cell_type": "markdown",
      "metadata": {
        "id": "view-in-github",
        "colab_type": "text"
      },
      "source": [
        "<a href=\"https://colab.research.google.com/github/BRIJNANDA1979/DrivenDATA_competetion/blob/main/Finished_DRIVEN_DATA_Project_CNN.ipynb\" target=\"_parent\"><img src=\"https://colab.research.google.com/assets/colab-badge.svg\" alt=\"Open In Colab\"/></a>"
      ]
    },
    {
      "cell_type": "code",
      "source": [
        "import pandas as pd     ### Labelling Data"
      ],
      "metadata": {
        "id": "3oS8oD-rUrVp"
      },
      "execution_count": 2,
      "outputs": []
    },
    {
      "cell_type": "code",
      "source": [
        "train_labels_path ='/content/drive/MyDrive/DRIVENDATA_for_Submission/train_labels.csv'"
      ],
      "metadata": {
        "id": "DIpULJNRAcqM"
      },
      "execution_count": 3,
      "outputs": []
    },
    {
      "cell_type": "code",
      "source": [
        "df = pd.read_csv(train_labels_path)\n",
        "df.head()"
      ],
      "metadata": {
        "colab": {
          "base_uri": "https://localhost:8080/",
          "height": 206
        },
        "id": "FAQXbXJY1Cq0",
        "outputId": "82c38f92-6255-41e6-cbeb-5a498b0190bc"
      },
      "execution_count": 4,
      "outputs": [
        {
          "output_type": "execute_result",
          "data": {
            "text/plain": [
              "         id  antelope_duiker  bird  blank  civet_genet  hog  leopard  \\\n",
              "0  ZJ000000              0.0   1.0    0.0          0.0  0.0      0.0   \n",
              "1  ZJ000001              0.0   0.0    0.0          0.0  0.0      0.0   \n",
              "2  ZJ000002              0.0   1.0    0.0          0.0  0.0      0.0   \n",
              "3  ZJ000003              0.0   0.0    0.0          0.0  0.0      0.0   \n",
              "4  ZJ000004              0.0   0.0    0.0          0.0  0.0      1.0   \n",
              "\n",
              "   monkey_prosimian  rodent  \n",
              "0               0.0     0.0  \n",
              "1               1.0     0.0  \n",
              "2               0.0     0.0  \n",
              "3               1.0     0.0  \n",
              "4               0.0     0.0  "
            ],
            "text/html": [
              "\n",
              "  <div id=\"df-b23d451f-6809-47ea-b7b7-dd59b7fe115f\" class=\"colab-df-container\">\n",
              "    <div>\n",
              "<style scoped>\n",
              "    .dataframe tbody tr th:only-of-type {\n",
              "        vertical-align: middle;\n",
              "    }\n",
              "\n",
              "    .dataframe tbody tr th {\n",
              "        vertical-align: top;\n",
              "    }\n",
              "\n",
              "    .dataframe thead th {\n",
              "        text-align: right;\n",
              "    }\n",
              "</style>\n",
              "<table border=\"1\" class=\"dataframe\">\n",
              "  <thead>\n",
              "    <tr style=\"text-align: right;\">\n",
              "      <th></th>\n",
              "      <th>id</th>\n",
              "      <th>antelope_duiker</th>\n",
              "      <th>bird</th>\n",
              "      <th>blank</th>\n",
              "      <th>civet_genet</th>\n",
              "      <th>hog</th>\n",
              "      <th>leopard</th>\n",
              "      <th>monkey_prosimian</th>\n",
              "      <th>rodent</th>\n",
              "    </tr>\n",
              "  </thead>\n",
              "  <tbody>\n",
              "    <tr>\n",
              "      <th>0</th>\n",
              "      <td>ZJ000000</td>\n",
              "      <td>0.0</td>\n",
              "      <td>1.0</td>\n",
              "      <td>0.0</td>\n",
              "      <td>0.0</td>\n",
              "      <td>0.0</td>\n",
              "      <td>0.0</td>\n",
              "      <td>0.0</td>\n",
              "      <td>0.0</td>\n",
              "    </tr>\n",
              "    <tr>\n",
              "      <th>1</th>\n",
              "      <td>ZJ000001</td>\n",
              "      <td>0.0</td>\n",
              "      <td>0.0</td>\n",
              "      <td>0.0</td>\n",
              "      <td>0.0</td>\n",
              "      <td>0.0</td>\n",
              "      <td>0.0</td>\n",
              "      <td>1.0</td>\n",
              "      <td>0.0</td>\n",
              "    </tr>\n",
              "    <tr>\n",
              "      <th>2</th>\n",
              "      <td>ZJ000002</td>\n",
              "      <td>0.0</td>\n",
              "      <td>1.0</td>\n",
              "      <td>0.0</td>\n",
              "      <td>0.0</td>\n",
              "      <td>0.0</td>\n",
              "      <td>0.0</td>\n",
              "      <td>0.0</td>\n",
              "      <td>0.0</td>\n",
              "    </tr>\n",
              "    <tr>\n",
              "      <th>3</th>\n",
              "      <td>ZJ000003</td>\n",
              "      <td>0.0</td>\n",
              "      <td>0.0</td>\n",
              "      <td>0.0</td>\n",
              "      <td>0.0</td>\n",
              "      <td>0.0</td>\n",
              "      <td>0.0</td>\n",
              "      <td>1.0</td>\n",
              "      <td>0.0</td>\n",
              "    </tr>\n",
              "    <tr>\n",
              "      <th>4</th>\n",
              "      <td>ZJ000004</td>\n",
              "      <td>0.0</td>\n",
              "      <td>0.0</td>\n",
              "      <td>0.0</td>\n",
              "      <td>0.0</td>\n",
              "      <td>0.0</td>\n",
              "      <td>1.0</td>\n",
              "      <td>0.0</td>\n",
              "      <td>0.0</td>\n",
              "    </tr>\n",
              "  </tbody>\n",
              "</table>\n",
              "</div>\n",
              "    <div class=\"colab-df-buttons\">\n",
              "\n",
              "  <div class=\"colab-df-container\">\n",
              "    <button class=\"colab-df-convert\" onclick=\"convertToInteractive('df-b23d451f-6809-47ea-b7b7-dd59b7fe115f')\"\n",
              "            title=\"Convert this dataframe to an interactive table.\"\n",
              "            style=\"display:none;\">\n",
              "\n",
              "  <svg xmlns=\"http://www.w3.org/2000/svg\" height=\"24px\" viewBox=\"0 -960 960 960\">\n",
              "    <path d=\"M120-120v-720h720v720H120Zm60-500h600v-160H180v160Zm220 220h160v-160H400v160Zm0 220h160v-160H400v160ZM180-400h160v-160H180v160Zm440 0h160v-160H620v160ZM180-180h160v-160H180v160Zm440 0h160v-160H620v160Z\"/>\n",
              "  </svg>\n",
              "    </button>\n",
              "\n",
              "  <style>\n",
              "    .colab-df-container {\n",
              "      display:flex;\n",
              "      gap: 12px;\n",
              "    }\n",
              "\n",
              "    .colab-df-convert {\n",
              "      background-color: #E8F0FE;\n",
              "      border: none;\n",
              "      border-radius: 50%;\n",
              "      cursor: pointer;\n",
              "      display: none;\n",
              "      fill: #1967D2;\n",
              "      height: 32px;\n",
              "      padding: 0 0 0 0;\n",
              "      width: 32px;\n",
              "    }\n",
              "\n",
              "    .colab-df-convert:hover {\n",
              "      background-color: #E2EBFA;\n",
              "      box-shadow: 0px 1px 2px rgba(60, 64, 67, 0.3), 0px 1px 3px 1px rgba(60, 64, 67, 0.15);\n",
              "      fill: #174EA6;\n",
              "    }\n",
              "\n",
              "    .colab-df-buttons div {\n",
              "      margin-bottom: 4px;\n",
              "    }\n",
              "\n",
              "    [theme=dark] .colab-df-convert {\n",
              "      background-color: #3B4455;\n",
              "      fill: #D2E3FC;\n",
              "    }\n",
              "\n",
              "    [theme=dark] .colab-df-convert:hover {\n",
              "      background-color: #434B5C;\n",
              "      box-shadow: 0px 1px 3px 1px rgba(0, 0, 0, 0.15);\n",
              "      filter: drop-shadow(0px 1px 2px rgba(0, 0, 0, 0.3));\n",
              "      fill: #FFFFFF;\n",
              "    }\n",
              "  </style>\n",
              "\n",
              "    <script>\n",
              "      const buttonEl =\n",
              "        document.querySelector('#df-b23d451f-6809-47ea-b7b7-dd59b7fe115f button.colab-df-convert');\n",
              "      buttonEl.style.display =\n",
              "        google.colab.kernel.accessAllowed ? 'block' : 'none';\n",
              "\n",
              "      async function convertToInteractive(key) {\n",
              "        const element = document.querySelector('#df-b23d451f-6809-47ea-b7b7-dd59b7fe115f');\n",
              "        const dataTable =\n",
              "          await google.colab.kernel.invokeFunction('convertToInteractive',\n",
              "                                                    [key], {});\n",
              "        if (!dataTable) return;\n",
              "\n",
              "        const docLinkHtml = 'Like what you see? Visit the ' +\n",
              "          '<a target=\"_blank\" href=https://colab.research.google.com/notebooks/data_table.ipynb>data table notebook</a>'\n",
              "          + ' to learn more about interactive tables.';\n",
              "        element.innerHTML = '';\n",
              "        dataTable['output_type'] = 'display_data';\n",
              "        await google.colab.output.renderOutput(dataTable, element);\n",
              "        const docLink = document.createElement('div');\n",
              "        docLink.innerHTML = docLinkHtml;\n",
              "        element.appendChild(docLink);\n",
              "      }\n",
              "    </script>\n",
              "  </div>\n",
              "\n",
              "\n",
              "<div id=\"df-3768137e-be2b-496c-b3ac-081d777981a6\">\n",
              "  <button class=\"colab-df-quickchart\" onclick=\"quickchart('df-3768137e-be2b-496c-b3ac-081d777981a6')\"\n",
              "            title=\"Suggest charts\"\n",
              "            style=\"display:none;\">\n",
              "\n",
              "<svg xmlns=\"http://www.w3.org/2000/svg\" height=\"24px\"viewBox=\"0 0 24 24\"\n",
              "     width=\"24px\">\n",
              "    <g>\n",
              "        <path d=\"M19 3H5c-1.1 0-2 .9-2 2v14c0 1.1.9 2 2 2h14c1.1 0 2-.9 2-2V5c0-1.1-.9-2-2-2zM9 17H7v-7h2v7zm4 0h-2V7h2v10zm4 0h-2v-4h2v4z\"/>\n",
              "    </g>\n",
              "</svg>\n",
              "  </button>\n",
              "\n",
              "<style>\n",
              "  .colab-df-quickchart {\n",
              "      --bg-color: #E8F0FE;\n",
              "      --fill-color: #1967D2;\n",
              "      --hover-bg-color: #E2EBFA;\n",
              "      --hover-fill-color: #174EA6;\n",
              "      --disabled-fill-color: #AAA;\n",
              "      --disabled-bg-color: #DDD;\n",
              "  }\n",
              "\n",
              "  [theme=dark] .colab-df-quickchart {\n",
              "      --bg-color: #3B4455;\n",
              "      --fill-color: #D2E3FC;\n",
              "      --hover-bg-color: #434B5C;\n",
              "      --hover-fill-color: #FFFFFF;\n",
              "      --disabled-bg-color: #3B4455;\n",
              "      --disabled-fill-color: #666;\n",
              "  }\n",
              "\n",
              "  .colab-df-quickchart {\n",
              "    background-color: var(--bg-color);\n",
              "    border: none;\n",
              "    border-radius: 50%;\n",
              "    cursor: pointer;\n",
              "    display: none;\n",
              "    fill: var(--fill-color);\n",
              "    height: 32px;\n",
              "    padding: 0;\n",
              "    width: 32px;\n",
              "  }\n",
              "\n",
              "  .colab-df-quickchart:hover {\n",
              "    background-color: var(--hover-bg-color);\n",
              "    box-shadow: 0 1px 2px rgba(60, 64, 67, 0.3), 0 1px 3px 1px rgba(60, 64, 67, 0.15);\n",
              "    fill: var(--button-hover-fill-color);\n",
              "  }\n",
              "\n",
              "  .colab-df-quickchart-complete:disabled,\n",
              "  .colab-df-quickchart-complete:disabled:hover {\n",
              "    background-color: var(--disabled-bg-color);\n",
              "    fill: var(--disabled-fill-color);\n",
              "    box-shadow: none;\n",
              "  }\n",
              "\n",
              "  .colab-df-spinner {\n",
              "    border: 2px solid var(--fill-color);\n",
              "    border-color: transparent;\n",
              "    border-bottom-color: var(--fill-color);\n",
              "    animation:\n",
              "      spin 1s steps(1) infinite;\n",
              "  }\n",
              "\n",
              "  @keyframes spin {\n",
              "    0% {\n",
              "      border-color: transparent;\n",
              "      border-bottom-color: var(--fill-color);\n",
              "      border-left-color: var(--fill-color);\n",
              "    }\n",
              "    20% {\n",
              "      border-color: transparent;\n",
              "      border-left-color: var(--fill-color);\n",
              "      border-top-color: var(--fill-color);\n",
              "    }\n",
              "    30% {\n",
              "      border-color: transparent;\n",
              "      border-left-color: var(--fill-color);\n",
              "      border-top-color: var(--fill-color);\n",
              "      border-right-color: var(--fill-color);\n",
              "    }\n",
              "    40% {\n",
              "      border-color: transparent;\n",
              "      border-right-color: var(--fill-color);\n",
              "      border-top-color: var(--fill-color);\n",
              "    }\n",
              "    60% {\n",
              "      border-color: transparent;\n",
              "      border-right-color: var(--fill-color);\n",
              "    }\n",
              "    80% {\n",
              "      border-color: transparent;\n",
              "      border-right-color: var(--fill-color);\n",
              "      border-bottom-color: var(--fill-color);\n",
              "    }\n",
              "    90% {\n",
              "      border-color: transparent;\n",
              "      border-bottom-color: var(--fill-color);\n",
              "    }\n",
              "  }\n",
              "</style>\n",
              "\n",
              "  <script>\n",
              "    async function quickchart(key) {\n",
              "      const quickchartButtonEl =\n",
              "        document.querySelector('#' + key + ' button');\n",
              "      quickchartButtonEl.disabled = true;  // To prevent multiple clicks.\n",
              "      quickchartButtonEl.classList.add('colab-df-spinner');\n",
              "      try {\n",
              "        const charts = await google.colab.kernel.invokeFunction(\n",
              "            'suggestCharts', [key], {});\n",
              "      } catch (error) {\n",
              "        console.error('Error during call to suggestCharts:', error);\n",
              "      }\n",
              "      quickchartButtonEl.classList.remove('colab-df-spinner');\n",
              "      quickchartButtonEl.classList.add('colab-df-quickchart-complete');\n",
              "    }\n",
              "    (() => {\n",
              "      let quickchartButtonEl =\n",
              "        document.querySelector('#df-3768137e-be2b-496c-b3ac-081d777981a6 button');\n",
              "      quickchartButtonEl.style.display =\n",
              "        google.colab.kernel.accessAllowed ? 'block' : 'none';\n",
              "    })();\n",
              "  </script>\n",
              "</div>\n",
              "\n",
              "    </div>\n",
              "  </div>\n"
            ]
          },
          "metadata": {},
          "execution_count": 4
        }
      ]
    },
    {
      "cell_type": "code",
      "source": [
        "category = df.columns.tolist()\n",
        "print(category)\n",
        "del category[0]           ########## remove first element  that is 'id'\n",
        "print(category)\n",
        "\n",
        "                          #### List of All 8 categories ['antelope_duiker', 'bird', 'blank', 'civet_genet', 'hog', 'leopard', 'monkey_prosimian', 'rodent']"
      ],
      "metadata": {
        "colab": {
          "base_uri": "https://localhost:8080/"
        },
        "id": "BQ8b_5248t7z",
        "outputId": "5941d021-0d01-429f-b5a6-2e794f6e15eb"
      },
      "execution_count": 5,
      "outputs": [
        {
          "output_type": "stream",
          "name": "stdout",
          "text": [
            "['id', 'antelope_duiker', 'bird', 'blank', 'civet_genet', 'hog', 'leopard', 'monkey_prosimian', 'rodent']\n",
            "['antelope_duiker', 'bird', 'blank', 'civet_genet', 'hog', 'leopard', 'monkey_prosimian', 'rodent']\n"
          ]
        }
      ]
    },
    {
      "cell_type": "code",
      "source": [
        "def label_train_images(category_name,path):\n",
        "  list_image = []\n",
        "  df_temp = df[df[category_name] == 1]\n",
        "  list_image = df_temp['id'].tolist()              ### This copies all image ID's of one category each\n",
        "  return list_image"
      ],
      "metadata": {
        "id": "s_LwqenKhOng"
      },
      "execution_count": 6,
      "outputs": []
    },
    {
      "cell_type": "code",
      "source": [
        "list_out = []\n",
        "for cat in category:\n",
        "  list_out.append(label_train_images(cat,train_labels_path))    ### Calling label_train_images fumction\n",
        "#zipped_list = list(zip(category,list_out))"
      ],
      "metadata": {
        "id": "K1ufYoIwB_sX"
      },
      "execution_count": 7,
      "outputs": []
    },
    {
      "cell_type": "code",
      "source": [
        "####################3  to make 8 folders of 8 categories    $$$$$$$$$$$$$$$$$$"
      ],
      "metadata": {
        "id": "fUQTR3yUMkrC"
      },
      "execution_count": 8,
      "outputs": []
    },
    {
      "cell_type": "code",
      "source": [
        "list_out[0][0:5]       #list of image file id's of First category antelope_duiker"
      ],
      "metadata": {
        "colab": {
          "base_uri": "https://localhost:8080/"
        },
        "id": "7fleqn6C1c8P",
        "outputId": "20424a01-d066-43ef-a90e-4740e00b726e"
      },
      "execution_count": 9,
      "outputs": [
        {
          "output_type": "execute_result",
          "data": {
            "text/plain": [
              "['ZJ000007', 'ZJ000022', 'ZJ000030', 'ZJ000037', 'ZJ000039']"
            ]
          },
          "metadata": {},
          "execution_count": 9
        }
      ]
    },
    {
      "cell_type": "code",
      "source": [
        "Train_data_categorised_path ='/content/drive/MyDrive/DRIVENDATA_for_Submission/TRAIN_DATA_for_CNN'"
      ],
      "metadata": {
        "id": "YMpY3bZYNJnw"
      },
      "execution_count": 10,
      "outputs": []
    },
    {
      "cell_type": "code",
      "source": [
        "Train_features_path = '/content/drive/MyDrive/DRIVENDATA_for_Submission/train_features'"
      ],
      "metadata": {
        "id": "T772ks11NZNw"
      },
      "execution_count": 11,
      "outputs": []
    },
    {
      "cell_type": "code",
      "source": [
        "import os\n",
        "import glob\n",
        "import shutil             ###### make 8 folders for each category named like 'antelope_duiker'"
      ],
      "metadata": {
        "id": "VT4kmC6ZODhD"
      },
      "execution_count": 12,
      "outputs": []
    },
    {
      "cell_type": "code",
      "source": [
        "for cat in category:\n",
        "  directory = Train_data_categorised_path + '/' + cat #https://stackoverflow.com/questions/273192/how-do-i-create-a-directory-and-any-missing-parent-directories\n",
        "  if not os.path.exists(directory):\n",
        "    os.makedirs(directory)"
      ],
      "metadata": {
        "id": "KAEXP_PzOQFG"
      },
      "execution_count": 13,
      "outputs": []
    },
    {
      "cell_type": "code",
      "source": [
        "def Populate_images_category_folder(category_name,path,list_of_files_to_copy):\n",
        "  for x in glob.glob(path + '/' + str('*.*')):\n",
        "     for item in list_of_files_to_copy:\n",
        "      if x.find(item) != -1:\n",
        "        shutil.copyfile(x, Train_data_categorised_path + '/'+category_name+'/'+item + str('.jpg'))\n"
      ],
      "metadata": {
        "id": "2ny-5ajhPU3P"
      },
      "execution_count": 14,
      "outputs": []
    },
    {
      "cell_type": "code",
      "source": [
        "for cat in category:\n",
        "  list_of_category_images =label_train_images(cat,train_labels_path)      #### calling function named 'label_train_images'\n",
        "  Populate_images_category_folder(cat,Train_features_path,list_of_category_images)   ### calling function 'Populate_images_category_folder"
      ],
      "metadata": {
        "id": "euFNUkteYyjK"
      },
      "execution_count": 15,
      "outputs": []
    },
    {
      "cell_type": "code",
      "source": [
        "### Check validity of labelled data by compaing it with data from trains.csv"
      ],
      "metadata": {
        "id": "2RN7c7sU8wBe"
      },
      "execution_count": 16,
      "outputs": []
    },
    {
      "cell_type": "code",
      "source": [
        "len(os.listdir('/content/drive/MyDrive/DRIVENDATA_for_Submission/TRAIN_DATA_for_CNN/antelope_duiker'))  ## number of images in output folder"
      ],
      "metadata": {
        "id": "4LKYymq1855U",
        "colab": {
          "base_uri": "https://localhost:8080/"
        },
        "outputId": "42ae8086-3ab3-4190-9be2-4f7ebf3b59a1"
      },
      "execution_count": 17,
      "outputs": [
        {
          "output_type": "execute_result",
          "data": {
            "text/plain": [
              "2474"
            ]
          },
          "metadata": {},
          "execution_count": 17
        }
      ]
    },
    {
      "cell_type": "code",
      "source": [
        "df_temp = df[df['antelope_duiker'] == 1]\n",
        "list_image = df_temp['id'].tolist()"
      ],
      "metadata": {
        "id": "ubHwP6gQBl0h"
      },
      "execution_count": 18,
      "outputs": []
    },
    {
      "cell_type": "code",
      "source": [
        "len(list_image)    ### This confirms All is Good and valid\n"
      ],
      "metadata": {
        "id": "0WX4-KeNB3AX",
        "colab": {
          "base_uri": "https://localhost:8080/"
        },
        "outputId": "d482dce6-2a93-4db0-b8ef-e00549b13991"
      },
      "execution_count": 19,
      "outputs": [
        {
          "output_type": "execute_result",
          "data": {
            "text/plain": [
              "2474"
            ]
          },
          "metadata": {},
          "execution_count": 19
        }
      ]
    },
    {
      "cell_type": "code",
      "source": [
        "#################  First task labelling 8 categories is finished\n",
        "#################  Second task to prepare data for CNN\n",
        "\n",
        "## image size 200 x 200 for CNN input as per website mentioned below\n",
        "##https://www.analyticsvidhya.com/blog/2021/01/image-classification-using-convolutional-neural-networks-a-step-by-step-guide/"
      ],
      "metadata": {
        "id": "bFkelorqfkLy"
      },
      "execution_count": 20,
      "outputs": []
    },
    {
      "cell_type": "code",
      "source": [
        "####################################################3   STEP 2 STARTS NOW  $$$$$$$$$$$$$$$$$$$$$$$$$$$$$$$$$$$$$$$$$$$$$$$"
      ],
      "metadata": {
        "id": "_QHeaUKBNitp"
      },
      "execution_count": 21,
      "outputs": []
    },
    {
      "cell_type": "code",
      "source": [
        "                                #####   2.1   Create Training Data\n",
        "# category = ['antelope_duiker', 'bird', 'blank', 'civet_genet', 'hog', 'leopard', 'monkey_prosimian', 'rodent']"
      ],
      "metadata": {
        "id": "SwLmEp72PdMI"
      },
      "execution_count": 22,
      "outputs": []
    },
    {
      "cell_type": "code",
      "source": [
        "category = ['antelope_duiker', 'bird', 'blank', 'civet_genet', 'hog', 'leopard', 'monkey_prosimian', 'rodent']"
      ],
      "metadata": {
        "id": "Y8QC9RV4RKn1"
      },
      "execution_count": 23,
      "outputs": []
    },
    {
      "cell_type": "code",
      "source": [
        "import os\n",
        "import cv2"
      ],
      "metadata": {
        "id": "HK_qs6NzRYjn"
      },
      "execution_count": 24,
      "outputs": []
    },
    {
      "cell_type": "code",
      "source": [
        "training = []\n",
        "IMG_SIZE = 200\n",
        "training_data_path = '/content/drive/MyDrive/DRIVENDATA_for_Submission/TRAIN_DATA_for_CNN'\n",
        "def createTrainingData():\n",
        "  for cat in category:\n",
        "    path = os.path.join(training_data_path, cat)\n",
        "    class_num =category.index(cat)               ######   [0,1,2,3,4,5,6,7]\n",
        "    for img in os.listdir(path):\n",
        "      img_array = cv2.imread(os.path.join(path,img))\n",
        "      new_array = cv2.resize(img_array, (IMG_SIZE, IMG_SIZE))\n",
        "      training.append([new_array, class_num])\n",
        "\n",
        "\n"
      ],
      "metadata": {
        "id": "LUrKC2ShPuNz"
      },
      "execution_count": 25,
      "outputs": []
    },
    {
      "cell_type": "code",
      "source": [
        "createTrainingData()"
      ],
      "metadata": {
        "id": "kjczE7a7RBjv"
      },
      "execution_count": 26,
      "outputs": []
    },
    {
      "cell_type": "code",
      "source": [
        "import random                                     #############  Shuffle the Dataset\n",
        "random.shuffle(training)"
      ],
      "metadata": {
        "id": "lnQzg3DBR64p"
      },
      "execution_count": 27,
      "outputs": []
    },
    {
      "cell_type": "code",
      "source": [
        "                              ############ label data"
      ],
      "metadata": {
        "id": "wyNBbNxLX04n"
      },
      "execution_count": 28,
      "outputs": []
    },
    {
      "cell_type": "code",
      "source": [
        "training[0]"
      ],
      "metadata": {
        "id": "vripDHEjZAlN",
        "colab": {
          "base_uri": "https://localhost:8080/"
        },
        "outputId": "f8bb6ca5-e61c-44a3-b14a-d6ae9e0f73f4"
      },
      "execution_count": 29,
      "outputs": [
        {
          "output_type": "execute_result",
          "data": {
            "text/plain": [
              "[array([[[ 45,  45,  45],\n",
              "         [ 42,  42,  42],\n",
              "         [ 47,  47,  47],\n",
              "         ...,\n",
              "         [ 32,  32,  32],\n",
              "         [ 32,  32,  32],\n",
              "         [ 32,  32,  32]],\n",
              " \n",
              "        [[ 44,  44,  44],\n",
              "         [ 42,  42,  42],\n",
              "         [ 47,  47,  47],\n",
              "         ...,\n",
              "         [ 32,  32,  32],\n",
              "         [ 32,  32,  32],\n",
              "         [ 32,  32,  32]],\n",
              " \n",
              "        [[ 43,  43,  43],\n",
              "         [ 44,  44,  44],\n",
              "         [ 48,  48,  48],\n",
              "         ...,\n",
              "         [ 32,  32,  32],\n",
              "         [ 32,  32,  32],\n",
              "         [ 32,  32,  32]],\n",
              " \n",
              "        ...,\n",
              " \n",
              "        [[ 63, 109, 181],\n",
              "         [ 57,  94, 186],\n",
              "         [ 56,  98, 172],\n",
              "         ...,\n",
              "         [ 46,  46,  46],\n",
              "         [185, 185, 185],\n",
              "         [240, 240, 240]],\n",
              " \n",
              "        [[ 46, 109, 195],\n",
              "         [ 44,  98, 212],\n",
              "         [ 45, 104, 209],\n",
              "         ...,\n",
              "         [201, 201, 201],\n",
              "         [137, 137, 137],\n",
              "         [230, 230, 230]],\n",
              " \n",
              "        [[ 56, 123, 211],\n",
              "         [ 36,  96, 219],\n",
              "         [ 23,  87, 209],\n",
              "         ...,\n",
              "         [243, 243, 243],\n",
              "         [235, 235, 235],\n",
              "         [238, 238, 238]]], dtype=uint8),\n",
              " 2]"
            ]
          },
          "metadata": {},
          "execution_count": 29
        }
      ]
    },
    {
      "cell_type": "code",
      "source": [
        "import numpy as np\n",
        "X =[]\n",
        "y =[]\n",
        "for features, label in training:\n",
        "  X.append(features)\n",
        "  y.append(label)\n",
        "X = np.array(X).reshape(-1, IMG_SIZE, IMG_SIZE, 3)    # reshape to remove RGB i.e. 3 from (200,200,3) to get (200,200) shape"
      ],
      "metadata": {
        "id": "zKaJO00hXytg"
      },
      "execution_count": 30,
      "outputs": []
    },
    {
      "cell_type": "code",
      "source": [
        "len(X)"
      ],
      "metadata": {
        "id": "RFfxe2EzYsqF",
        "colab": {
          "base_uri": "https://localhost:8080/"
        },
        "outputId": "1c7945b1-5d12-4157-d3e8-b6757efa0b0e"
      },
      "execution_count": 31,
      "outputs": [
        {
          "output_type": "execute_result",
          "data": {
            "text/plain": [
              "16488"
            ]
          },
          "metadata": {},
          "execution_count": 31
        }
      ]
    },
    {
      "cell_type": "code",
      "source": [
        "len(y)"
      ],
      "metadata": {
        "colab": {
          "base_uri": "https://localhost:8080/"
        },
        "id": "eH0UOeIHLSp6",
        "outputId": "29655604-f79e-4fdc-b223-86196c11be39"
      },
      "execution_count": 32,
      "outputs": [
        {
          "output_type": "execute_result",
          "data": {
            "text/plain": [
              "16488"
            ]
          },
          "metadata": {},
          "execution_count": 32
        }
      ]
    },
    {
      "cell_type": "code",
      "source": [
        "for i in range(len(y)):\n",
        "  if y[i]==0:\n",
        "    y[i] = [1,0,0,0,0,0,0,0]\n",
        "  if y[i]==1:\n",
        "    y[i] = [0,1,0,0,0,0,0,0]\n",
        "  if y[i]==2:\n",
        "    y[i] = [0,0,1,0,0,0,0,0]\n",
        "  if y[i]==3:\n",
        "    y[i] = [0,0,0,1,0,0,0,0]\n",
        "  if y[i]==4:\n",
        "    y[i] = [0,0,0,0,1,0,0,0]\n",
        "  if y[i]==5:\n",
        "    y[i] = [0,0,0,0,0,1,0,0]\n",
        "  if y[i]==6:\n",
        "    y[i] = [0,0,0,0,0,0,1,0]\n",
        "  if y[i]==7:\n",
        "    y[i] = [0,0,0,0,0,0,0,1]\n",
        "\n",
        "\n",
        ""
      ],
      "metadata": {
        "id": "DLSUWo3SLZ5d"
      },
      "execution_count": 33,
      "outputs": []
    },
    {
      "cell_type": "code",
      "source": [
        "y[16487]"
      ],
      "metadata": {
        "colab": {
          "base_uri": "https://localhost:8080/"
        },
        "id": "4fiTeRiwMUjG",
        "outputId": "6f05f21c-e6c0-456b-f445-9f38eaaea794"
      },
      "execution_count": 34,
      "outputs": [
        {
          "output_type": "execute_result",
          "data": {
            "text/plain": [
              "[1, 0, 0, 0, 0, 0, 0, 0]"
            ]
          },
          "metadata": {},
          "execution_count": 34
        }
      ]
    },
    {
      "cell_type": "code",
      "source": [
        "y=np.array(y)"
      ],
      "metadata": {
        "id": "_cKJsytwTPJu"
      },
      "execution_count": 35,
      "outputs": []
    },
    {
      "cell_type": "code",
      "source": [
        "X = X.astype('float32')\n",
        "X /= 255\n"
      ],
      "metadata": {
        "id": "FZ7QQICaaVWt"
      },
      "execution_count": 36,
      "outputs": []
    },
    {
      "source": [
        "import sklearn.model_selection\n",
        "X_train, X_test, y_train, y_test = sklearn.model_selection.train_test_split(X, y, test_size = 0.2, random_state = 4)"
      ],
      "cell_type": "code",
      "metadata": {
        "id": "MykvPQFIEZ0-"
      },
      "execution_count": 37,
      "outputs": []
    },
    {
      "cell_type": "code",
      "source": [
        "len(X_test)"
      ],
      "metadata": {
        "colab": {
          "base_uri": "https://localhost:8080/"
        },
        "id": "g9_wueTSO7wn",
        "outputId": "09efa7fb-bb62-4139-d4ba-7e3de26aa968"
      },
      "execution_count": 38,
      "outputs": [
        {
          "output_type": "execute_result",
          "data": {
            "text/plain": [
              "3298"
            ]
          },
          "metadata": {},
          "execution_count": 38
        }
      ]
    },
    {
      "cell_type": "code",
      "source": [],
      "metadata": {
        "id": "QbHfWYSJTNcP"
      },
      "execution_count": 38,
      "outputs": []
    },
    {
      "cell_type": "code",
      "source": [
        "import tensorflow as tf"
      ],
      "metadata": {
        "id": "d_D3e4zDEnZe"
      },
      "execution_count": 39,
      "outputs": []
    },
    {
      "source": [
        "batch_size = 16\n",
        "nb_classes =8\n",
        "nb_epochs = 1\n",
        "img_rows, img_columns = 200, 200\n",
        "img_channel = 3\n",
        "nb_filters = 32\n",
        "nb_pool = 2\n",
        "nb_conv = 3\n",
        "\n",
        "model = tf.keras.Sequential([\n",
        "    tf.keras.layers.Conv2D(32, (3,3), padding='same', activation=tf.nn.relu,\n",
        "                           input_shape=(200, 200, 3)),\n",
        "    tf.keras.layers.MaxPooling2D((2, 2), strides=2),\n",
        "    tf.keras.layers.Conv2D(32, (3,3), padding='same', activation=tf.nn.relu),\n",
        "    tf.keras.layers.MaxPooling2D((2, 2), strides=2),\n",
        "    tf.keras.layers.Dropout(0.5),\n",
        "    tf.keras.layers.Flatten(),\n",
        "    tf.keras.layers.Dense(128, activation=tf.nn.relu),\n",
        "    tf.keras.layers.Dense(8,  activation=tf.nn.softmax)\n",
        "])\n",
        "model.compile(optimizer=tf.keras.optimizers.Adam(learning_rate=1e-3),\n",
        "              loss=tf.keras.losses.BinaryCrossentropy(),\n",
        "              metrics=[tf.keras.metrics.CategoricalAccuracy(),\n",
        "                       tf.keras.metrics.FalseNegatives()])\n",
        "model.fit(X_train, np.array(y_train), batch_size = batch_size, epochs = nb_epochs, verbose = 1, validation_data = (X_test, y_test))"
      ],
      "cell_type": "code",
      "metadata": {
        "colab": {
          "base_uri": "https://localhost:8080/"
        },
        "id": "Z7GMouriPXQm",
        "outputId": "2795c62c-7a03-4a7b-bcc6-6039f8c198f3"
      },
      "execution_count": 40,
      "outputs": [
        {
          "output_type": "stream",
          "name": "stdout",
          "text": [
            "825/825 [==============================] - 170s 204ms/step - loss: 0.2799 - categorical_accuracy: 0.4506 - false_negatives: 10175.0000 - val_loss: 0.2086 - val_categorical_accuracy: 0.6480 - val_false_negatives: 1855.0000\n"
          ]
        },
        {
          "output_type": "execute_result",
          "data": {
            "text/plain": [
              "<keras.callbacks.History at 0x78abfa9e9a20>"
            ]
          },
          "metadata": {},
          "execution_count": 40
        }
      ]
    },
    {
      "cell_type": "code",
      "source": [
        "score = model.evaluate(X_test, y_test, verbose = 0 )\n",
        "print(\"Test Score: \", score[0])\n",
        "print(\"Test accuracy: \", score[1])"
      ],
      "metadata": {
        "id": "K6EXeQjUsbFU",
        "colab": {
          "base_uri": "https://localhost:8080/"
        },
        "outputId": "babecb1c-37d8-4bbb-ccba-fbcf157bc30f"
      },
      "execution_count": 42,
      "outputs": [
        {
          "output_type": "stream",
          "name": "stdout",
          "text": [
            "Test Score:  0.20857952535152435\n",
            "Test accuracy:  0.6479684710502625\n"
          ]
        }
      ]
    }
  ]
}
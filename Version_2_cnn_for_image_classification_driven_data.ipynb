{
  "cells": [
    {
      "cell_type": "markdown",
      "metadata": {
        "id": "view-in-github",
        "colab_type": "text"
      },
      "source": [
        "<a href=\"https://colab.research.google.com/github/BRIJNANDA1979/DrivenDATA_competetion/blob/main/Version_2_cnn_for_image_classification_driven_data.ipynb\" target=\"_parent\"><img src=\"https://colab.research.google.com/assets/colab-badge.svg\" alt=\"Open In Colab\"/></a>"
      ]
    },
    {
      "cell_type": "code",
      "execution_count": 1,
      "metadata": {
        "id": "oGyaQhr3u8Tc"
      },
      "outputs": [],
      "source": [
        "# -*- coding: utf-8 -*-\n",
        "\"\"\"\n",
        "Created on Thu May 13 03:02:04 2021\n",
        "\n",
        "@author: BRIJB\n",
        "\"\"\"\n",
        "\n",
        "from tensorflow.keras.preprocessing.image import ImageDataGenerator\n",
        "# import the needed packages\n",
        "import tensorflow as tf\n",
        "from keras import losses\n",
        "from keras import optimizers\n",
        "from keras import metrics\n",
        "import matplotlib.pyplot as plt\n",
        "import matplotlib.image as img\n",
        "import tensorflow.keras as keras\n",
        "from keras.preprocessing import image\n",
        "import numpy as np\n",
        "from keras.models import model_from_json\n",
        "import os\n",
        "\n",
        "batch_size = 30\n",
        "\n",
        "# define and move to dataset directory\n",
        "datasetdir = \"/content/drive/MyDrive/TRAIN_512_sized_images\"    #\n",
        "####   datasetdir = \"/content/drive/MyDrive/TRAIN Data Categorised\"   #\n",
        "import os\n",
        "os.chdir(datasetdir)"
      ]
    },
    {
      "cell_type": "code",
      "execution_count": 2,
      "metadata": {
        "colab": {
          "base_uri": "https://localhost:8080/"
        },
        "id": "FeY_UE0jvDf9",
        "outputId": "f84b8c1a-edb1-48b2-905d-3fc114d40502"
      },
      "outputs": [
        {
          "output_type": "stream",
          "name": "stdout",
          "text": [
            "Found 951 images belonging to 8 classes.\n"
          ]
        }
      ],
      "source": [
        "# shortcut to the ImageDataGenerator class\n",
        "ImageDataGenerator = keras.preprocessing.image.ImageDataGenerator\n",
        "gen = ImageDataGenerator()\n",
        "iterator = gen.flow_from_directory(\n",
        "    os.getcwd(),\n",
        "    target_size=(512,512),\n",
        "    #classes=('Forest', 'HerbaceousVegetation', 'Highway', 'Industrial', 'Pasture', 'PermanentCrop', 'Residential','SeaLake')\n",
        "    #classes = ('antelope_duiker', 'bird', 'blank', 'civet_genet', 'hog', 'leopard', 'monkey_prosimian', 'rodent')\n",
        "    classes = ('1','2','3','4','5','6','7','8')\n",
        "\n",
        ")"
      ]
    },
    {
      "cell_type": "code",
      "execution_count": 3,
      "metadata": {
        "colab": {
          "base_uri": "https://localhost:8080/"
        },
        "id": "Dfewz4kqvp-s",
        "outputId": "9f6dbd84-b381-4578-929c-74f6f189fd80"
      },
      "outputs": [
        {
          "output_type": "stream",
          "name": "stdout",
          "text": [
            "2\n",
            "<class 'numpy.ndarray'>\n",
            "(32, 512, 512, 3)\n",
            "float32\n"
          ]
        }
      ],
      "source": [
        "batch = iterator.next()\n",
        "print(len(batch))\n",
        "print(type(batch[0]))\n",
        "print(batch[0].shape)\n",
        "print(batch[0].dtype)\n",
        "#the first element is an array of 32 images with 64X64 pixels, and 3 color channels, encoded as floats in the range 0 to 255\n",
        "#The second element contains the 32 corresponding labels."
      ]
    },
    {
      "cell_type": "code",
      "execution_count": 4,
      "metadata": {
        "colab": {
          "base_uri": "https://localhost:8080/"
        },
        "id": "SaPqr20bv-M_",
        "outputId": "33d3065b-05e4-4778-c929-9218ac9f1066"
      },
      "outputs": [
        {
          "output_type": "stream",
          "name": "stdout",
          "text": [
            "2\n",
            "<class 'numpy.ndarray'>\n",
            "(32, 8)\n",
            "float32\n"
          ]
        }
      ],
      "source": [
        "batch = iterator.next()\n",
        "print(len(batch))\n",
        "print(type(batch[1]))\n",
        "print(batch[1].shape)\n",
        "print(batch[1].dtype)"
      ]
    },
    {
      "cell_type": "code",
      "execution_count": 5,
      "metadata": {
        "colab": {
          "base_uri": "https://localhost:8080/"
        },
        "id": "NPMpBo_MwKz-",
        "outputId": "2b939045-2d50-4c79-a6c6-310586a3508b"
      },
      "outputs": [
        {
          "output_type": "stream",
          "name": "stdout",
          "text": [
            "Found 763 images belonging to 8 classes.\n",
            "Found 188 images belonging to 8 classes.\n"
          ]
        }
      ],
      "source": [
        "imgdatagen = ImageDataGenerator(\n",
        "    rescale = 1/255.,\n",
        "    validation_split = 0.2,\n",
        ")\n",
        "\n",
        "batch_size = 32\n",
        "height, width = (512,512)\n",
        "train_dataset = imgdatagen.flow_from_directory(\n",
        "    os.getcwd(),\n",
        "    target_size = (height, width),\n",
        "    #classes = ('Forest', 'HerbaceousVegetation', 'Highway', 'Industrial', 'Pasture', 'PermanentCrop', 'Residential','SeaLake'),\n",
        "    #classes = ('antelope_duiker', 'bird', 'blank', 'civet_genet', 'hog', 'leopard', 'monkey_prosimian', 'rodent'),\n",
        "    classes = ('1','2','3','4','5','6','7','8'),\n",
        "    batch_size = batch_size,\n",
        "    subset = 'training'\n",
        ")\n",
        "\n",
        "val_dataset = imgdatagen.flow_from_directory(\n",
        "    os.getcwd(),\n",
        "    target_size = (height, width),\n",
        "    #classes = ('Forest', 'HerbaceousVegetation', 'Highway', 'Industrial', 'Pasture', 'PermanentCrop', 'Residential','SeaLake'),\n",
        "    #classes = ('antelope_duiker', 'bird', 'blank', 'civet_genet', 'hog', 'leopard', 'monkey_prosimian', 'rodent'),\n",
        "    classes = ('1','2','3','4','5','6','7','8'),\n",
        "    batch_size = batch_size,\n",
        "    subset = 'validation'\n",
        ")\n",
        "#In this case out of 5000 images: Training: 4000 Validation: 20% of 4000 i.e. 1000\n",
        "model = keras.models.Sequential()"
      ]
    },
    {
      "cell_type": "code",
      "execution_count": 6,
      "metadata": {
        "colab": {
          "base_uri": "https://localhost:8080/"
        },
        "id": "V8rpuGkKwu_b",
        "outputId": "cd48e92a-ec4c-48b1-a826-f31285e9c5e9"
      },
      "outputs": [
        {
          "output_type": "stream",
          "name": "stdout",
          "text": [
            "Model: \"sequential\"\n",
            "_________________________________________________________________\n",
            " Layer (type)                Output Shape              Param #   \n",
            "=================================================================\n",
            " conv2d (Conv2D)             (None, 508, 508, 24)      1824      \n",
            "                                                                 \n",
            " max_pooling2d (MaxPooling2  (None, 254, 254, 24)      0         \n",
            " D)                                                              \n",
            "                                                                 \n",
            " conv2d_1 (Conv2D)           (None, 250, 250, 48)      28848     \n",
            "                                                                 \n",
            " max_pooling2d_1 (MaxPoolin  (None, 125, 125, 48)      0         \n",
            " g2D)                                                            \n",
            "                                                                 \n",
            " conv2d_2 (Conv2D)           (None, 121, 121, 96)      115296    \n",
            "                                                                 \n",
            " flatten (Flatten)           (None, 1405536)           0         \n",
            "                                                                 \n",
            " dropout (Dropout)           (None, 1405536)           0         \n",
            "                                                                 \n",
            " dense (Dense)               (None, 8)                 11244296  \n",
            "                                                                 \n",
            "=================================================================\n",
            "Total params: 11390264 (43.45 MB)\n",
            "Trainable params: 11390264 (43.45 MB)\n",
            "Non-trainable params: 0 (0.00 Byte)\n",
            "_________________________________________________________________\n"
          ]
        }
      ],
      "source": [
        "\n",
        "initializers = {\n",
        "\n",
        "}\n",
        "\n",
        "model.add(\n",
        "    keras.layers.Conv2D(\n",
        "        24, 5, input_shape=(512,512,3),\n",
        "        activation='relu',\n",
        "    )\n",
        ")\n",
        "model.add( keras.layers.MaxPooling2D(2) )\n",
        "model.add(\n",
        "    keras.layers.Conv2D(\n",
        "        48, 5, activation='relu',\n",
        "    )\n",
        ")\n",
        "model.add( keras.layers.MaxPooling2D(2) )\n",
        "model.add(\n",
        "    keras.layers.Conv2D(\n",
        "        96, 5, activation='relu',\n",
        "    )\n",
        ")\n",
        "model.add( keras.layers.Flatten() )\n",
        "model.add( keras.layers.Dropout(0.4) )\n",
        "\n",
        "model.add( keras.layers.Dense(\n",
        "    8, activation='softmax',\n",
        "    )\n",
        ")\n",
        "\n",
        "model.summary()"
      ]
    },
    {
      "cell_type": "code",
      "execution_count": 7,
      "metadata": {
        "colab": {
          "base_uri": "https://localhost:8080/"
        },
        "id": "fFJa65dKwxsn",
        "outputId": "2ad007c7-c26b-4ee2-a8bd-4955ae0c269c"
      },
      "outputs": [
        {
          "output_type": "stream",
          "name": "stderr",
          "text": [
            "WARNING:absl:`lr` is deprecated in Keras optimizer, please use `learning_rate` or use the legacy optimizer, e.g.,tf.keras.optimizers.legacy.Adamax.\n"
          ]
        }
      ],
      "source": [
        "model.compile(loss='binary_crossentropy',\n",
        "              optimizer=keras.optimizers.Adamax(lr=0.001),\n",
        "              metrics=['acc'])"
      ]
    },
    {
      "cell_type": "code",
      "execution_count": null,
      "metadata": {
        "colab": {
          "base_uri": "https://localhost:8080/"
        },
        "id": "QdeBADn8w74E",
        "outputId": "f7d70d86-0da3-4a81-e7ef-2007fbcc80a7"
      },
      "outputs": [
        {
          "output_type": "stream",
          "name": "stderr",
          "text": [
            "<ipython-input-8-67b76b3c615c>:1: UserWarning: `Model.fit_generator` is deprecated and will be removed in a future version. Please use `Model.fit`, which supports generators.\n",
            "  history = model.fit_generator(\n"
          ]
        },
        {
          "output_type": "stream",
          "name": "stdout",
          "text": [
            "Epoch 1/40\n",
            "16/24 [===================>..........] - ETA: 3:42 - loss: 1.7187 - acc: 0.2090"
          ]
        }
      ],
      "source": [
        "\n",
        "history = model.fit_generator(\n",
        "    train_dataset,\n",
        "    validation_data = val_dataset,\n",
        "    workers=10,\n",
        "    epochs=40,\n",
        ")\n",
        "\n",
        "#result of this model is not impressive, but can be imroved\n",
        "#443/443 [==============================] - 363s 802ms/step - loss: 0.3290 - acc: 0.3072 - val_loss: 0.2291 - val_acc: 0.5466"
      ]
    },
    {
      "cell_type": "code",
      "execution_count": null,
      "metadata": {
        "id": "dM14_ZA0vMh5"
      },
      "outputs": [],
      "source": [
        "# result 1 with Epochs =10   Epoch 10/10\n",
        "\n",
        "#86/86 [==============================] - 45s 518ms/step - loss: 0.1856 - acc: 0.7538 - val_loss: 0.1883 - val_acc: 0.7555"
      ]
    }
  ],
  "metadata": {
    "colab": {
      "provenance": [],
      "mount_file_id": "1uT_pdg8tdVdQIqSZT3z_pByOM7ws78LH",
      "authorship_tag": "ABX9TyNjkIvU2Sd2yBrFJ7vKTf3J",
      "include_colab_link": true
    },
    "kernelspec": {
      "display_name": "Python 3",
      "name": "python3"
    },
    "language_info": {
      "name": "python"
    }
  },
  "nbformat": 4,
  "nbformat_minor": 0
}
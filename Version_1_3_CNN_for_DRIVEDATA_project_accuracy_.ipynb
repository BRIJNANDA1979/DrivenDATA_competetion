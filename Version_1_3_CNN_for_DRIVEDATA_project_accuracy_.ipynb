{
  "cells": [
    {
      "cell_type": "markdown",
      "metadata": {
        "id": "view-in-github",
        "colab_type": "text"
      },
      "source": [
        "<a href=\"https://colab.research.google.com/github/BRIJNANDA1979/DrivenDATA_competetion/blob/main/Version_1_3_CNN_for_DRIVEDATA_project_accuracy_.ipynb\" target=\"_parent\"><img src=\"https://colab.research.google.com/assets/colab-badge.svg\" alt=\"Open In Colab\"/></a>"
      ]
    },
    {
      "cell_type": "markdown",
      "metadata": {
        "id": "gO4BfJvVKdGa"
      },
      "source": [
        "**bold text** After Finishing Step 2 of preperation of Data....Now its time to run CNN on newly prepared data in Project 2023 folder under name\n",
        "\"TRAIN_DATA_for_CNN"
      ]
    },
    {
      "cell_type": "code",
      "execution_count": 1,
      "metadata": {
        "id": "XCmUzIPJLHC6",
        "colab": {
          "base_uri": "https://localhost:8080/"
        },
        "outputId": "c4306f39-8a06-46f7-aa8c-ad1e5ddfa3bb"
      },
      "outputs": [
        {
          "output_type": "stream",
          "name": "stdout",
          "text": [
            "Mounted at /content/drive\n"
          ]
        }
      ],
      "source": [
        "from google.colab import drive\n",
        "drive.mount('/content/drive')"
      ]
    },
    {
      "cell_type": "code",
      "source": [
        "gpu_info = !nvidia-smi\n",
        "gpu_info = '\\n'.join(gpu_info)\n",
        "if gpu_info.find('failed') >= 0:\n",
        "  print('Not connected to a GPU')\n",
        "else:\n",
        "  print(gpu_info)"
      ],
      "metadata": {
        "id": "azjf5lbYzW3a",
        "colab": {
          "base_uri": "https://localhost:8080/"
        },
        "outputId": "d0790e99-3fd8-4e48-ad8b-ef4187b81bb6"
      },
      "execution_count": 2,
      "outputs": [
        {
          "output_type": "stream",
          "name": "stdout",
          "text": [
            "Fri Dec 15 02:37:34 2023       \n",
            "+---------------------------------------------------------------------------------------+\n",
            "| NVIDIA-SMI 535.104.05             Driver Version: 535.104.05   CUDA Version: 12.2     |\n",
            "|-----------------------------------------+----------------------+----------------------+\n",
            "| GPU  Name                 Persistence-M | Bus-Id        Disp.A | Volatile Uncorr. ECC |\n",
            "| Fan  Temp   Perf          Pwr:Usage/Cap |         Memory-Usage | GPU-Util  Compute M. |\n",
            "|                                         |                      |               MIG M. |\n",
            "|=========================================+======================+======================|\n",
            "|   0  Tesla T4                       Off | 00000000:00:04.0 Off |                    0 |\n",
            "| N/A   66C    P8              11W /  70W |      0MiB / 15360MiB |      0%      Default |\n",
            "|                                         |                      |                  N/A |\n",
            "+-----------------------------------------+----------------------+----------------------+\n",
            "                                                                                         \n",
            "+---------------------------------------------------------------------------------------+\n",
            "| Processes:                                                                            |\n",
            "|  GPU   GI   CI        PID   Type   Process name                            GPU Memory |\n",
            "|        ID   ID                                                             Usage      |\n",
            "|=======================================================================================|\n",
            "|  No running processes found                                                           |\n",
            "+---------------------------------------------------------------------------------------+\n"
          ]
        }
      ]
    },
    {
      "cell_type": "code",
      "execution_count": 3,
      "metadata": {
        "id": "oGyaQhr3u8Tc"
      },
      "outputs": [],
      "source": [
        "# -*- coding: utf-8 -*-\n",
        "\"\"\"\n",
        "Created on Thu May 13 03:02:04 2021\n",
        "\n",
        "@author: BRIJB\n",
        "\"\"\"\n",
        "\n",
        "from tensorflow.keras.preprocessing.image import ImageDataGenerator\n",
        "# import the needed packages\n",
        "import tensorflow as tf\n",
        "from keras import losses\n",
        "from keras import optimizers\n",
        "from keras import metrics\n",
        "import matplotlib.pyplot as plt\n",
        "import matplotlib.image as img\n",
        "import tensorflow.keras as keras\n",
        "from keras.preprocessing import image\n",
        "import numpy as np\n",
        "from keras.models import model_from_json\n",
        "import os\n",
        "\n",
        "\n",
        "\n"
      ]
    },
    {
      "cell_type": "code",
      "execution_count": 4,
      "metadata": {
        "id": "4Zy8c0FbK_A5"
      },
      "outputs": [],
      "source": [
        "# define and move to dataset directory\n",
        "datasetdir = \"/content/drive/MyDrive/Project 2023/DRIVEN_DATA competetion/TRAIN_DATA_for_CNN\"\n",
        "import os\n",
        "os.chdir(datasetdir)"
      ]
    },
    {
      "cell_type": "code",
      "execution_count": 5,
      "metadata": {
        "id": "FeY_UE0jvDf9",
        "colab": {
          "base_uri": "https://localhost:8080/"
        },
        "outputId": "e48e153a-a1d5-483f-9c7a-a35d61e3d79d"
      },
      "outputs": [
        {
          "output_type": "stream",
          "name": "stdout",
          "text": [
            "Found 16488 images belonging to 8 classes.\n"
          ]
        }
      ],
      "source": [
        "# shortcut to the ImageDataGenerator class\n",
        "ImageDataGenerator = keras.preprocessing.image.ImageDataGenerator\n",
        "gen = ImageDataGenerator()\n",
        "iterator = gen.flow_from_directory(\n",
        "    os.getcwd(),\n",
        "    target_size=(512,512),\n",
        "    #classes=('Forest', 'HerbaceousVegetation', 'Highway', 'Industrial', 'Pasture', 'PermanentCrop', 'Residential','SeaLake')\n",
        "    classes = ('antelope_duiker', 'bird', 'blank', 'civet_genet', 'hog', 'leopard', 'monkey_prosimian', 'rodent')\n",
        "\n",
        ")"
      ]
    },
    {
      "cell_type": "code",
      "execution_count": 6,
      "metadata": {
        "id": "Dfewz4kqvp-s",
        "colab": {
          "base_uri": "https://localhost:8080/"
        },
        "outputId": "5b8a4db5-da8b-42ef-bbec-f557587cf3f2"
      },
      "outputs": [
        {
          "output_type": "stream",
          "name": "stdout",
          "text": [
            "2\n",
            "<class 'numpy.ndarray'>\n",
            "(32, 512, 512, 3)\n",
            "float32\n"
          ]
        }
      ],
      "source": [
        "batch = iterator.next()\n",
        "print(len(batch))\n",
        "print(type(batch[0]))\n",
        "print(batch[0].shape)\n",
        "print(batch[0].dtype)\n",
        "#the first element is an array of 32 images with 64X64 pixels, and 3 color channels, encoded as floats in the range 0 to 255\n",
        "#The second element contains the 32 corresponding labels."
      ]
    },
    {
      "cell_type": "code",
      "execution_count": 7,
      "metadata": {
        "id": "SaPqr20bv-M_",
        "colab": {
          "base_uri": "https://localhost:8080/"
        },
        "outputId": "44339719-4489-4937-d905-ed1a28692e16"
      },
      "outputs": [
        {
          "output_type": "stream",
          "name": "stdout",
          "text": [
            "2\n",
            "<class 'numpy.ndarray'>\n",
            "(32, 8)\n",
            "float32\n"
          ]
        }
      ],
      "source": [
        "batch = iterator.next()\n",
        "print(len(batch))\n",
        "print(type(batch[1]))\n",
        "print(batch[1].shape)\n",
        "print(batch[1].dtype)"
      ]
    },
    {
      "cell_type": "code",
      "execution_count": 8,
      "metadata": {
        "id": "NPMpBo_MwKz-",
        "colab": {
          "base_uri": "https://localhost:8080/"
        },
        "outputId": "d8789a19-4cd0-426b-b04f-cc8526d9ea1d"
      },
      "outputs": [
        {
          "output_type": "stream",
          "name": "stdout",
          "text": [
            "Found 13195 images belonging to 8 classes.\n",
            "Found 3293 images belonging to 8 classes.\n"
          ]
        }
      ],
      "source": [
        "imgdatagen = ImageDataGenerator(\n",
        "    rescale = 1/255.,\n",
        "    validation_split = 0.2,\n",
        ")\n",
        "\n",
        "batch_size = 32\n",
        "height, width = (512,512)\n",
        "train_dataset = imgdatagen.flow_from_directory(\n",
        "    os.getcwd(),\n",
        "    target_size = (height, width),\n",
        "    #classes = ('Forest', 'HerbaceousVegetation', 'Highway', 'Industrial', 'Pasture', 'PermanentCrop', 'Residential','SeaLake'),\n",
        "    classes = ('antelope_duiker', 'bird', 'blank', 'civet_genet', 'hog', 'leopard', 'monkey_prosimian', 'rodent'),\n",
        "    batch_size = batch_size,\n",
        "    subset = 'training'\n",
        ")\n",
        "\n",
        "val_dataset = imgdatagen.flow_from_directory(\n",
        "    os.getcwd(),\n",
        "    target_size = (height, width),\n",
        "    #classes = ('Forest', 'HerbaceousVegetation', 'Highway', 'Industrial', 'Pasture', 'PermanentCrop', 'Residential','SeaLake'),\n",
        "    classes = ('antelope_duiker', 'bird', 'blank', 'civet_genet', 'hog', 'leopard', 'monkey_prosimian', 'rodent'),\n",
        "    batch_size = batch_size,\n",
        "    subset = 'validation'\n",
        ")\n",
        "#In this case out of 5000 images: Training: 4000 Validation: 20% of 4000 i.e. 1000\n",
        "model = keras.models.Sequential()"
      ]
    },
    {
      "cell_type": "code",
      "execution_count": 9,
      "metadata": {
        "id": "V8rpuGkKwu_b",
        "colab": {
          "base_uri": "https://localhost:8080/"
        },
        "outputId": "4fe8addf-ef6d-469b-cb78-17ee55a923c4"
      },
      "outputs": [
        {
          "output_type": "stream",
          "name": "stdout",
          "text": [
            "Model: \"sequential\"\n",
            "_________________________________________________________________\n",
            " Layer (type)                Output Shape              Param #   \n",
            "=================================================================\n",
            " conv2d (Conv2D)             (None, 508, 508, 24)      1824      \n",
            "                                                                 \n",
            " max_pooling2d (MaxPooling2  (None, 254, 254, 24)      0         \n",
            " D)                                                              \n",
            "                                                                 \n",
            " conv2d_1 (Conv2D)           (None, 250, 250, 48)      28848     \n",
            "                                                                 \n",
            " max_pooling2d_1 (MaxPoolin  (None, 125, 125, 48)      0         \n",
            " g2D)                                                            \n",
            "                                                                 \n",
            " conv2d_2 (Conv2D)           (None, 121, 121, 96)      115296    \n",
            "                                                                 \n",
            " flatten (Flatten)           (None, 1405536)           0         \n",
            "                                                                 \n",
            " dropout (Dropout)           (None, 1405536)           0         \n",
            "                                                                 \n",
            " dense (Dense)               (None, 8)                 11244296  \n",
            "                                                                 \n",
            "=================================================================\n",
            "Total params: 11390264 (43.45 MB)\n",
            "Trainable params: 11390264 (43.45 MB)\n",
            "Non-trainable params: 0 (0.00 Byte)\n",
            "_________________________________________________________________\n"
          ]
        }
      ],
      "source": [
        "\n",
        "initializers = {\n",
        "\n",
        "}\n",
        "\n",
        "model.add(\n",
        "    keras.layers.Conv2D(\n",
        "        24, 5, input_shape=(512,512,3),\n",
        "        activation='relu',\n",
        "    )\n",
        ")\n",
        "model.add( keras.layers.MaxPooling2D(2) )\n",
        "model.add(\n",
        "    keras.layers.Conv2D(\n",
        "        48, 5, activation='relu',\n",
        "    )\n",
        ")\n",
        "model.add( keras.layers.MaxPooling2D(2) )\n",
        "model.add(\n",
        "    keras.layers.Conv2D(\n",
        "        96, 5, activation='relu',\n",
        "    )\n",
        ")\n",
        "model.add( keras.layers.Flatten() )\n",
        "model.add( keras.layers.Dropout(0.4) )\n",
        "\n",
        "model.add( keras.layers.Dense(\n",
        "    8, activation='softmax',\n",
        "    )\n",
        ")\n",
        "\n",
        "model.summary()"
      ]
    },
    {
      "cell_type": "code",
      "execution_count": 10,
      "metadata": {
        "id": "fFJa65dKwxsn",
        "colab": {
          "base_uri": "https://localhost:8080/"
        },
        "outputId": "ef882629-a334-4a01-a0f0-365418fabeb8"
      },
      "outputs": [
        {
          "output_type": "stream",
          "name": "stderr",
          "text": [
            "WARNING:absl:`lr` is deprecated in Keras optimizer, please use `learning_rate` or use the legacy optimizer, e.g.,tf.keras.optimizers.legacy.Adamax.\n"
          ]
        }
      ],
      "source": [
        "model.compile(loss='binary_crossentropy',\n",
        "              optimizer=keras.optimizers.Adamax(lr=0.001),\n",
        "              metrics=['acc'])"
      ]
    },
    {
      "cell_type": "code",
      "execution_count": 11,
      "metadata": {
        "colab": {
          "base_uri": "https://localhost:8080/"
        },
        "id": "QdeBADn8w74E",
        "outputId": "e758e692-179c-4d31-926e-d0dde949207b"
      },
      "outputs": [
        {
          "output_type": "stream",
          "name": "stderr",
          "text": [
            "<ipython-input-11-78c51bf6350c>:1: UserWarning: `Model.fit_generator` is deprecated and will be removed in a future version. Please use `Model.fit`, which supports generators.\n",
            "  history = model.fit_generator(\n"
          ]
        },
        {
          "output_type": "stream",
          "name": "stdout",
          "text": [
            "413/413 [==============================] - 4439s 11s/step - loss: 0.3117 - acc: 0.5142 - val_loss: 0.1969 - val_acc: 0.6951\n"
          ]
        }
      ],
      "source": [
        "history = model.fit_generator(\n",
        "    train_dataset,\n",
        "    validation_data = val_dataset,\n",
        "    workers=1,\n",
        "    epochs=1,\n",
        ")\n",
        "\n",
        "#result of this model is not impressive, but can be imroved\n",
        "#443/443 [==============================] - 363s 802ms/step - loss: 0.3290 - acc: 0.3072 - val_loss: 0.2291 - val_acc: 0.5466"
      ]
    },
    {
      "cell_type": "markdown",
      "metadata": {
        "id": "ujpqu58pfNg4"
      },
      "source": [
        "Generate Test Data"
      ]
    },
    {
      "cell_type": "code",
      "execution_count": 12,
      "metadata": {
        "id": "ZdZYItw-fQsj"
      },
      "outputs": [],
      "source": [
        "category = ['1', '2', '3', '4', '5', '6', '7', '8']"
      ]
    },
    {
      "cell_type": "code",
      "execution_count": 13,
      "metadata": {
        "id": "Zc2uKG_bgnkf"
      },
      "outputs": [],
      "source": [
        "test_dir = '/content/drive/MyDrive/TEST_512_sized_images'"
      ]
    },
    {
      "cell_type": "code",
      "execution_count": 14,
      "metadata": {
        "id": "QIYLhK82eITs",
        "colab": {
          "base_uri": "https://localhost:8080/"
        },
        "outputId": "1ec51c6d-207a-4249-febe-321f312b29ba"
      },
      "outputs": [
        {
          "output_type": "stream",
          "name": "stdout",
          "text": [
            "Found 188 images belonging to 8 classes.\n"
          ]
        }
      ],
      "source": [
        "desired_batch_size=32\n",
        "\n",
        "test_datagen = ImageDataGenerator(rescale=1./255)\n",
        "\n",
        "test_generator = test_datagen.flow_from_directory(\n",
        "        test_dir,\n",
        "        target_size=(512,512),\n",
        "        color_mode=\"rgb\",\n",
        "        shuffle = False,\n",
        "        class_mode='categorical',\n",
        "        batch_size=desired_batch_size)\n",
        "\n",
        "filenames = test_generator.filenames\n",
        "nb_samples = len(filenames)/desired_batch_size\n",
        "\n"
      ]
    },
    {
      "cell_type": "code",
      "execution_count": 15,
      "metadata": {
        "id": "NwZcj2S-hjXR",
        "colab": {
          "base_uri": "https://localhost:8080/"
        },
        "outputId": "9dedc53a-a07f-4865-9bda-837730f2aa2f"
      },
      "outputs": [
        {
          "output_type": "stream",
          "name": "stderr",
          "text": [
            "<ipython-input-15-12448886d6e0>:1: UserWarning: `Model.predict_generator` is deprecated and will be removed in a future version. Please use `Model.predict`, which supports generators.\n",
            "  predict = model.predict_generator(test_generator,steps =\n"
          ]
        }
      ],
      "source": [
        "\n",
        "predict = model.predict_generator(test_generator,steps =\n",
        "                                   int(nb_samples))"
      ]
    },
    {
      "cell_type": "code",
      "source": [
        "print('predictions:', predict)\n",
        "print(np.argmax(predict))"
      ],
      "metadata": {
        "id": "jNYgDvurnqp8",
        "outputId": "d86895be-2f6e-46b4-85c4-ee286b64ce92",
        "colab": {
          "base_uri": "https://localhost:8080/"
        }
      },
      "execution_count": 19,
      "outputs": [
        {
          "output_type": "stream",
          "name": "stdout",
          "text": [
            "predictions: [[0.2598453  0.18871352 0.1839512  ... 0.05516119 0.15495878 0.13610128]\n",
            " [0.6567319  0.00977884 0.10035107 ... 0.02881409 0.16842973 0.02444096]\n",
            " [0.1431218  0.11472993 0.19269668 ... 0.25688264 0.17795897 0.04312616]\n",
            " ...\n",
            " [0.30391824 0.08147015 0.13556279 ... 0.01676395 0.43975753 0.01629271]\n",
            " [0.07098611 0.00308064 0.17364444 ... 0.00741579 0.727376   0.00302029]\n",
            " [0.11457252 0.01331442 0.03346158 ... 0.00863753 0.81479913 0.0039644 ]]\n",
            "499\n"
          ]
        }
      ]
    },
    {
      "cell_type": "code",
      "execution_count": 16,
      "metadata": {
        "id": "dM14_ZA0vMh5"
      },
      "outputs": [],
      "source": [
        "# result 1 with Epochs =10   Epoch 10/10\n",
        "\n",
        "#86/86 [==============================] - 45s 518ms/step - loss: 0.1856 - acc: 0.7538 - val_loss: 0.1883 - val_acc: 0.7555"
      ]
    }
  ],
  "metadata": {
    "colab": {
      "provenance": [],
      "gpuType": "T4",
      "include_colab_link": true
    },
    "kernelspec": {
      "display_name": "Python 3",
      "name": "python3"
    },
    "language_info": {
      "name": "python"
    },
    "accelerator": "GPU"
  },
  "nbformat": 4,
  "nbformat_minor": 0
}
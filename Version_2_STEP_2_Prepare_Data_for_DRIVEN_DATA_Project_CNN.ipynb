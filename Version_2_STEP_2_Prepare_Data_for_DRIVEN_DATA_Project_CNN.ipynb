{
  "nbformat": 4,
  "nbformat_minor": 0,
  "metadata": {
    "colab": {
      "provenance": [],
      "mount_file_id": "1z4wpUqJ5NjHxQVCLlCvfF4cuKRaM3DlD",
      "authorship_tag": "ABX9TyP+3/dTblWb3wL21mncQr96",
      "include_colab_link": true
    },
    "kernelspec": {
      "name": "python3",
      "display_name": "Python 3"
    },
    "language_info": {
      "name": "python"
    }
  },
  "cells": [
    {
      "cell_type": "markdown",
      "metadata": {
        "id": "view-in-github",
        "colab_type": "text"
      },
      "source": [
        "<a href=\"https://colab.research.google.com/github/BRIJNANDA1979/DrivenDATA_competetion/blob/main/Version_2_STEP_2_Prepare_Data_for_DRIVEN_DATA_Project_CNN.ipynb\" target=\"_parent\"><img src=\"https://colab.research.google.com/assets/colab-badge.svg\" alt=\"Open In Colab\"/></a>"
      ]
    },
    {
      "cell_type": "code",
      "source": [
        "import pandas as pd     ### Labelling Data"
      ],
      "metadata": {
        "id": "3oS8oD-rUrVp"
      },
      "execution_count": 31,
      "outputs": []
    },
    {
      "cell_type": "code",
      "source": [
        "train_labels_path ='/content/drive/MyDrive/Project 2023/DRIVEN_DATA competetion/train_labels.csv'"
      ],
      "metadata": {
        "id": "DIpULJNRAcqM"
      },
      "execution_count": 32,
      "outputs": []
    },
    {
      "cell_type": "code",
      "source": [
        "df = pd.read_csv(train_labels_path)\n",
        "df.head()"
      ],
      "metadata": {
        "colab": {
          "base_uri": "https://localhost:8080/",
          "height": 206
        },
        "id": "FAQXbXJY1Cq0",
        "outputId": "d70ea2ef-3b57-481b-f512-406c79aa34d8"
      },
      "execution_count": 33,
      "outputs": [
        {
          "output_type": "execute_result",
          "data": {
            "text/plain": [
              "         id  antelope_duiker  bird  blank  civet_genet  hog  leopard  \\\n",
              "0  ZJ000000              0.0   1.0    0.0          0.0  0.0      0.0   \n",
              "1  ZJ000001              0.0   0.0    0.0          0.0  0.0      0.0   \n",
              "2  ZJ000002              0.0   1.0    0.0          0.0  0.0      0.0   \n",
              "3  ZJ000003              0.0   0.0    0.0          0.0  0.0      0.0   \n",
              "4  ZJ000004              0.0   0.0    0.0          0.0  0.0      1.0   \n",
              "\n",
              "   monkey_prosimian  rodent  \n",
              "0               0.0     0.0  \n",
              "1               1.0     0.0  \n",
              "2               0.0     0.0  \n",
              "3               1.0     0.0  \n",
              "4               0.0     0.0  "
            ],
            "text/html": [
              "\n",
              "  <div id=\"df-1f0c1b67-020e-4f39-9bb4-143922196c3c\" class=\"colab-df-container\">\n",
              "    <div>\n",
              "<style scoped>\n",
              "    .dataframe tbody tr th:only-of-type {\n",
              "        vertical-align: middle;\n",
              "    }\n",
              "\n",
              "    .dataframe tbody tr th {\n",
              "        vertical-align: top;\n",
              "    }\n",
              "\n",
              "    .dataframe thead th {\n",
              "        text-align: right;\n",
              "    }\n",
              "</style>\n",
              "<table border=\"1\" class=\"dataframe\">\n",
              "  <thead>\n",
              "    <tr style=\"text-align: right;\">\n",
              "      <th></th>\n",
              "      <th>id</th>\n",
              "      <th>antelope_duiker</th>\n",
              "      <th>bird</th>\n",
              "      <th>blank</th>\n",
              "      <th>civet_genet</th>\n",
              "      <th>hog</th>\n",
              "      <th>leopard</th>\n",
              "      <th>monkey_prosimian</th>\n",
              "      <th>rodent</th>\n",
              "    </tr>\n",
              "  </thead>\n",
              "  <tbody>\n",
              "    <tr>\n",
              "      <th>0</th>\n",
              "      <td>ZJ000000</td>\n",
              "      <td>0.0</td>\n",
              "      <td>1.0</td>\n",
              "      <td>0.0</td>\n",
              "      <td>0.0</td>\n",
              "      <td>0.0</td>\n",
              "      <td>0.0</td>\n",
              "      <td>0.0</td>\n",
              "      <td>0.0</td>\n",
              "    </tr>\n",
              "    <tr>\n",
              "      <th>1</th>\n",
              "      <td>ZJ000001</td>\n",
              "      <td>0.0</td>\n",
              "      <td>0.0</td>\n",
              "      <td>0.0</td>\n",
              "      <td>0.0</td>\n",
              "      <td>0.0</td>\n",
              "      <td>0.0</td>\n",
              "      <td>1.0</td>\n",
              "      <td>0.0</td>\n",
              "    </tr>\n",
              "    <tr>\n",
              "      <th>2</th>\n",
              "      <td>ZJ000002</td>\n",
              "      <td>0.0</td>\n",
              "      <td>1.0</td>\n",
              "      <td>0.0</td>\n",
              "      <td>0.0</td>\n",
              "      <td>0.0</td>\n",
              "      <td>0.0</td>\n",
              "      <td>0.0</td>\n",
              "      <td>0.0</td>\n",
              "    </tr>\n",
              "    <tr>\n",
              "      <th>3</th>\n",
              "      <td>ZJ000003</td>\n",
              "      <td>0.0</td>\n",
              "      <td>0.0</td>\n",
              "      <td>0.0</td>\n",
              "      <td>0.0</td>\n",
              "      <td>0.0</td>\n",
              "      <td>0.0</td>\n",
              "      <td>1.0</td>\n",
              "      <td>0.0</td>\n",
              "    </tr>\n",
              "    <tr>\n",
              "      <th>4</th>\n",
              "      <td>ZJ000004</td>\n",
              "      <td>0.0</td>\n",
              "      <td>0.0</td>\n",
              "      <td>0.0</td>\n",
              "      <td>0.0</td>\n",
              "      <td>0.0</td>\n",
              "      <td>1.0</td>\n",
              "      <td>0.0</td>\n",
              "      <td>0.0</td>\n",
              "    </tr>\n",
              "  </tbody>\n",
              "</table>\n",
              "</div>\n",
              "    <div class=\"colab-df-buttons\">\n",
              "\n",
              "  <div class=\"colab-df-container\">\n",
              "    <button class=\"colab-df-convert\" onclick=\"convertToInteractive('df-1f0c1b67-020e-4f39-9bb4-143922196c3c')\"\n",
              "            title=\"Convert this dataframe to an interactive table.\"\n",
              "            style=\"display:none;\">\n",
              "\n",
              "  <svg xmlns=\"http://www.w3.org/2000/svg\" height=\"24px\" viewBox=\"0 -960 960 960\">\n",
              "    <path d=\"M120-120v-720h720v720H120Zm60-500h600v-160H180v160Zm220 220h160v-160H400v160Zm0 220h160v-160H400v160ZM180-400h160v-160H180v160Zm440 0h160v-160H620v160ZM180-180h160v-160H180v160Zm440 0h160v-160H620v160Z\"/>\n",
              "  </svg>\n",
              "    </button>\n",
              "\n",
              "  <style>\n",
              "    .colab-df-container {\n",
              "      display:flex;\n",
              "      gap: 12px;\n",
              "    }\n",
              "\n",
              "    .colab-df-convert {\n",
              "      background-color: #E8F0FE;\n",
              "      border: none;\n",
              "      border-radius: 50%;\n",
              "      cursor: pointer;\n",
              "      display: none;\n",
              "      fill: #1967D2;\n",
              "      height: 32px;\n",
              "      padding: 0 0 0 0;\n",
              "      width: 32px;\n",
              "    }\n",
              "\n",
              "    .colab-df-convert:hover {\n",
              "      background-color: #E2EBFA;\n",
              "      box-shadow: 0px 1px 2px rgba(60, 64, 67, 0.3), 0px 1px 3px 1px rgba(60, 64, 67, 0.15);\n",
              "      fill: #174EA6;\n",
              "    }\n",
              "\n",
              "    .colab-df-buttons div {\n",
              "      margin-bottom: 4px;\n",
              "    }\n",
              "\n",
              "    [theme=dark] .colab-df-convert {\n",
              "      background-color: #3B4455;\n",
              "      fill: #D2E3FC;\n",
              "    }\n",
              "\n",
              "    [theme=dark] .colab-df-convert:hover {\n",
              "      background-color: #434B5C;\n",
              "      box-shadow: 0px 1px 3px 1px rgba(0, 0, 0, 0.15);\n",
              "      filter: drop-shadow(0px 1px 2px rgba(0, 0, 0, 0.3));\n",
              "      fill: #FFFFFF;\n",
              "    }\n",
              "  </style>\n",
              "\n",
              "    <script>\n",
              "      const buttonEl =\n",
              "        document.querySelector('#df-1f0c1b67-020e-4f39-9bb4-143922196c3c button.colab-df-convert');\n",
              "      buttonEl.style.display =\n",
              "        google.colab.kernel.accessAllowed ? 'block' : 'none';\n",
              "\n",
              "      async function convertToInteractive(key) {\n",
              "        const element = document.querySelector('#df-1f0c1b67-020e-4f39-9bb4-143922196c3c');\n",
              "        const dataTable =\n",
              "          await google.colab.kernel.invokeFunction('convertToInteractive',\n",
              "                                                    [key], {});\n",
              "        if (!dataTable) return;\n",
              "\n",
              "        const docLinkHtml = 'Like what you see? Visit the ' +\n",
              "          '<a target=\"_blank\" href=https://colab.research.google.com/notebooks/data_table.ipynb>data table notebook</a>'\n",
              "          + ' to learn more about interactive tables.';\n",
              "        element.innerHTML = '';\n",
              "        dataTable['output_type'] = 'display_data';\n",
              "        await google.colab.output.renderOutput(dataTable, element);\n",
              "        const docLink = document.createElement('div');\n",
              "        docLink.innerHTML = docLinkHtml;\n",
              "        element.appendChild(docLink);\n",
              "      }\n",
              "    </script>\n",
              "  </div>\n",
              "\n",
              "\n",
              "<div id=\"df-8ee86674-09e0-4295-9fc4-a14ebc197659\">\n",
              "  <button class=\"colab-df-quickchart\" onclick=\"quickchart('df-8ee86674-09e0-4295-9fc4-a14ebc197659')\"\n",
              "            title=\"Suggest charts\"\n",
              "            style=\"display:none;\">\n",
              "\n",
              "<svg xmlns=\"http://www.w3.org/2000/svg\" height=\"24px\"viewBox=\"0 0 24 24\"\n",
              "     width=\"24px\">\n",
              "    <g>\n",
              "        <path d=\"M19 3H5c-1.1 0-2 .9-2 2v14c0 1.1.9 2 2 2h14c1.1 0 2-.9 2-2V5c0-1.1-.9-2-2-2zM9 17H7v-7h2v7zm4 0h-2V7h2v10zm4 0h-2v-4h2v4z\"/>\n",
              "    </g>\n",
              "</svg>\n",
              "  </button>\n",
              "\n",
              "<style>\n",
              "  .colab-df-quickchart {\n",
              "      --bg-color: #E8F0FE;\n",
              "      --fill-color: #1967D2;\n",
              "      --hover-bg-color: #E2EBFA;\n",
              "      --hover-fill-color: #174EA6;\n",
              "      --disabled-fill-color: #AAA;\n",
              "      --disabled-bg-color: #DDD;\n",
              "  }\n",
              "\n",
              "  [theme=dark] .colab-df-quickchart {\n",
              "      --bg-color: #3B4455;\n",
              "      --fill-color: #D2E3FC;\n",
              "      --hover-bg-color: #434B5C;\n",
              "      --hover-fill-color: #FFFFFF;\n",
              "      --disabled-bg-color: #3B4455;\n",
              "      --disabled-fill-color: #666;\n",
              "  }\n",
              "\n",
              "  .colab-df-quickchart {\n",
              "    background-color: var(--bg-color);\n",
              "    border: none;\n",
              "    border-radius: 50%;\n",
              "    cursor: pointer;\n",
              "    display: none;\n",
              "    fill: var(--fill-color);\n",
              "    height: 32px;\n",
              "    padding: 0;\n",
              "    width: 32px;\n",
              "  }\n",
              "\n",
              "  .colab-df-quickchart:hover {\n",
              "    background-color: var(--hover-bg-color);\n",
              "    box-shadow: 0 1px 2px rgba(60, 64, 67, 0.3), 0 1px 3px 1px rgba(60, 64, 67, 0.15);\n",
              "    fill: var(--button-hover-fill-color);\n",
              "  }\n",
              "\n",
              "  .colab-df-quickchart-complete:disabled,\n",
              "  .colab-df-quickchart-complete:disabled:hover {\n",
              "    background-color: var(--disabled-bg-color);\n",
              "    fill: var(--disabled-fill-color);\n",
              "    box-shadow: none;\n",
              "  }\n",
              "\n",
              "  .colab-df-spinner {\n",
              "    border: 2px solid var(--fill-color);\n",
              "    border-color: transparent;\n",
              "    border-bottom-color: var(--fill-color);\n",
              "    animation:\n",
              "      spin 1s steps(1) infinite;\n",
              "  }\n",
              "\n",
              "  @keyframes spin {\n",
              "    0% {\n",
              "      border-color: transparent;\n",
              "      border-bottom-color: var(--fill-color);\n",
              "      border-left-color: var(--fill-color);\n",
              "    }\n",
              "    20% {\n",
              "      border-color: transparent;\n",
              "      border-left-color: var(--fill-color);\n",
              "      border-top-color: var(--fill-color);\n",
              "    }\n",
              "    30% {\n",
              "      border-color: transparent;\n",
              "      border-left-color: var(--fill-color);\n",
              "      border-top-color: var(--fill-color);\n",
              "      border-right-color: var(--fill-color);\n",
              "    }\n",
              "    40% {\n",
              "      border-color: transparent;\n",
              "      border-right-color: var(--fill-color);\n",
              "      border-top-color: var(--fill-color);\n",
              "    }\n",
              "    60% {\n",
              "      border-color: transparent;\n",
              "      border-right-color: var(--fill-color);\n",
              "    }\n",
              "    80% {\n",
              "      border-color: transparent;\n",
              "      border-right-color: var(--fill-color);\n",
              "      border-bottom-color: var(--fill-color);\n",
              "    }\n",
              "    90% {\n",
              "      border-color: transparent;\n",
              "      border-bottom-color: var(--fill-color);\n",
              "    }\n",
              "  }\n",
              "</style>\n",
              "\n",
              "  <script>\n",
              "    async function quickchart(key) {\n",
              "      const quickchartButtonEl =\n",
              "        document.querySelector('#' + key + ' button');\n",
              "      quickchartButtonEl.disabled = true;  // To prevent multiple clicks.\n",
              "      quickchartButtonEl.classList.add('colab-df-spinner');\n",
              "      try {\n",
              "        const charts = await google.colab.kernel.invokeFunction(\n",
              "            'suggestCharts', [key], {});\n",
              "      } catch (error) {\n",
              "        console.error('Error during call to suggestCharts:', error);\n",
              "      }\n",
              "      quickchartButtonEl.classList.remove('colab-df-spinner');\n",
              "      quickchartButtonEl.classList.add('colab-df-quickchart-complete');\n",
              "    }\n",
              "    (() => {\n",
              "      let quickchartButtonEl =\n",
              "        document.querySelector('#df-8ee86674-09e0-4295-9fc4-a14ebc197659 button');\n",
              "      quickchartButtonEl.style.display =\n",
              "        google.colab.kernel.accessAllowed ? 'block' : 'none';\n",
              "    })();\n",
              "  </script>\n",
              "</div>\n",
              "    </div>\n",
              "  </div>\n"
            ]
          },
          "metadata": {},
          "execution_count": 33
        }
      ]
    },
    {
      "cell_type": "code",
      "source": [
        "category = df.columns.tolist()\n",
        "print(category)\n",
        "del category[0]           ########## remove first element  that is 'id'\n",
        "print(category)\n",
        "\n",
        "                          #### List of All 8 categories ['antelope_duiker', 'bird', 'blank', 'civet_genet', 'hog', 'leopard', 'monkey_prosimian', 'rodent']"
      ],
      "metadata": {
        "colab": {
          "base_uri": "https://localhost:8080/"
        },
        "id": "BQ8b_5248t7z",
        "outputId": "d55f7443-87ff-4ada-cc64-a4b614da9a06"
      },
      "execution_count": 34,
      "outputs": [
        {
          "output_type": "stream",
          "name": "stdout",
          "text": [
            "['id', 'antelope_duiker', 'bird', 'blank', 'civet_genet', 'hog', 'leopard', 'monkey_prosimian', 'rodent']\n",
            "['antelope_duiker', 'bird', 'blank', 'civet_genet', 'hog', 'leopard', 'monkey_prosimian', 'rodent']\n"
          ]
        }
      ]
    },
    {
      "cell_type": "code",
      "source": [
        "def label_train_images(category_name,path):\n",
        "  list_image = []\n",
        "  df_temp = df[df[category_name] == 1]\n",
        "  list_image = df_temp['id'].tolist()              ### This copies all image ID's of one category each\n",
        "  return list_image"
      ],
      "metadata": {
        "id": "s_LwqenKhOng"
      },
      "execution_count": 35,
      "outputs": []
    },
    {
      "cell_type": "code",
      "source": [
        "list_out = []\n",
        "for cat in category:\n",
        "  list_out.append(label_train_images(cat,train_labels_path))    ### Calling label_train_images fumction\n",
        "#zipped_list = list(zip(category,list_out))"
      ],
      "metadata": {
        "id": "K1ufYoIwB_sX"
      },
      "execution_count": 36,
      "outputs": []
    },
    {
      "cell_type": "code",
      "source": [
        "####################3  to make 8 folders of 8 categories    $$$$$$$$$$$$$$$$$$"
      ],
      "metadata": {
        "id": "fUQTR3yUMkrC"
      },
      "execution_count": 37,
      "outputs": []
    },
    {
      "cell_type": "code",
      "source": [
        "list_out[0][0:5]       #list of image file id's of First category antelope_duiker"
      ],
      "metadata": {
        "colab": {
          "base_uri": "https://localhost:8080/"
        },
        "id": "7fleqn6C1c8P",
        "outputId": "452146aa-2849-4af9-ddf2-ca016ff1e47b"
      },
      "execution_count": 38,
      "outputs": [
        {
          "output_type": "execute_result",
          "data": {
            "text/plain": [
              "['ZJ000007', 'ZJ000022', 'ZJ000030', 'ZJ000037', 'ZJ000039']"
            ]
          },
          "metadata": {},
          "execution_count": 38
        }
      ]
    },
    {
      "cell_type": "code",
      "source": [
        "Train_data_categorised_path ='/content/drive/MyDrive/Project 2023/DRIVEN_DATA competetion/TRAIN_DATA_for_CNN'"
      ],
      "metadata": {
        "id": "YMpY3bZYNJnw"
      },
      "execution_count": 39,
      "outputs": []
    },
    {
      "cell_type": "code",
      "source": [
        "Train_features_path = '/content/drive/MyDrive/Project 2023/DRIVEN_DATA competetion/train_features'"
      ],
      "metadata": {
        "id": "T772ks11NZNw"
      },
      "execution_count": 40,
      "outputs": []
    },
    {
      "cell_type": "code",
      "source": [
        "import os\n",
        "import glob\n",
        "import shutil             ###### make 8 folders for each category named like 'antelope_duiker'"
      ],
      "metadata": {
        "id": "VT4kmC6ZODhD"
      },
      "execution_count": 41,
      "outputs": []
    },
    {
      "cell_type": "code",
      "source": [
        "for cat in category:\n",
        "  directory = Train_data_categorised_path + '/' + cat #https://stackoverflow.com/questions/273192/how-do-i-create-a-directory-and-any-missing-parent-directories\n",
        "  if not os.path.exists(directory):\n",
        "    os.makedirs(directory)"
      ],
      "metadata": {
        "id": "KAEXP_PzOQFG"
      },
      "execution_count": 42,
      "outputs": []
    },
    {
      "cell_type": "code",
      "source": [
        "def Populate_images_category_folder(category_name,path,list_of_files_to_copy):\n",
        "  for x in glob.glob(path + '/' + str('*.*')):\n",
        "     for item in list_of_files_to_copy:\n",
        "      if x.find(item) != -1:\n",
        "        shutil.copyfile(x, Train_data_categorised_path + '/'+category_name+'/'+item + str('.jpg'))\n"
      ],
      "metadata": {
        "id": "2ny-5ajhPU3P"
      },
      "execution_count": 43,
      "outputs": []
    },
    {
      "cell_type": "code",
      "source": [
        "for cat in category:\n",
        "  list_of_category_images =label_train_images(cat,train_labels_path)      #### calling function named 'label_train_images'\n",
        "  Populate_images_category_folder(cat,Train_features_path,list_of_category_images)   ### calling function 'Populate_images_category_folder"
      ],
      "metadata": {
        "id": "euFNUkteYyjK"
      },
      "execution_count": 44,
      "outputs": []
    },
    {
      "cell_type": "code",
      "source": [
        "### Check validity of labelled data by compaing it with data from trains.csv"
      ],
      "metadata": {
        "id": "2RN7c7sU8wBe"
      },
      "execution_count": 45,
      "outputs": []
    },
    {
      "cell_type": "code",
      "source": [
        "len(os.listdir('/content/drive/MyDrive/Project 2023/DRIVEN_DATA competetion/TRAIN_DATA_for_CNN/antelope_duiker'))  ## number of images in output folder"
      ],
      "metadata": {
        "colab": {
          "base_uri": "https://localhost:8080/"
        },
        "id": "4LKYymq1855U",
        "outputId": "a0528323-9838-4313-f5aa-696445b9b981"
      },
      "execution_count": 46,
      "outputs": [
        {
          "output_type": "execute_result",
          "data": {
            "text/plain": [
              "2474"
            ]
          },
          "metadata": {},
          "execution_count": 46
        }
      ]
    },
    {
      "cell_type": "code",
      "source": [
        "df_temp = df[df['antelope_duiker'] == 1]\n",
        "list_image = df_temp['id'].tolist()"
      ],
      "metadata": {
        "id": "ubHwP6gQBl0h"
      },
      "execution_count": 47,
      "outputs": []
    },
    {
      "cell_type": "code",
      "source": [
        "len(list_image)    ### This confirms All is Good and valid\n"
      ],
      "metadata": {
        "colab": {
          "base_uri": "https://localhost:8080/"
        },
        "id": "0WX4-KeNB3AX",
        "outputId": "0f8472d4-873e-44cd-95b2-4941c6426bcb"
      },
      "execution_count": 48,
      "outputs": [
        {
          "output_type": "execute_result",
          "data": {
            "text/plain": [
              "2474"
            ]
          },
          "metadata": {},
          "execution_count": 48
        }
      ]
    },
    {
      "cell_type": "code",
      "source": [
        "#################  First task labelling 8 categories is finished\n",
        "#################  Second task to prepare data for CNN\n",
        "\n",
        "## image size 200 x 200 for CNN input as per website mentioned below\n",
        "##https://www.analyticsvidhya.com/blog/2021/01/image-classification-using-convolutional-neural-networks-a-step-by-step-guide/"
      ],
      "metadata": {
        "id": "bFkelorqfkLy"
      },
      "execution_count": 49,
      "outputs": []
    },
    {
      "cell_type": "code",
      "source": [
        "####################################################3   STEP 2 STARTS NOW  $$$$$$$$$$$$$$$$$$$$$$$$$$$$$$$$$$$$$$$$$$$$$$$"
      ],
      "metadata": {
        "id": "_QHeaUKBNitp"
      },
      "execution_count": 50,
      "outputs": []
    },
    {
      "cell_type": "code",
      "source": [
        "                                #####   2.1   Create Training Data\n",
        "# category = ['antelope_duiker', 'bird', 'blank', 'civet_genet', 'hog', 'leopard', 'monkey_prosimian', 'rodent']"
      ],
      "metadata": {
        "id": "SwLmEp72PdMI"
      },
      "execution_count": 51,
      "outputs": []
    },
    {
      "cell_type": "code",
      "source": [
        "category = ['antelope_duiker', 'bird', 'blank', 'civet_genet', 'hog', 'leopard', 'monkey_prosimian', 'rodent']"
      ],
      "metadata": {
        "id": "Y8QC9RV4RKn1"
      },
      "execution_count": 52,
      "outputs": []
    },
    {
      "cell_type": "code",
      "source": [
        "import os\n",
        "import cv2"
      ],
      "metadata": {
        "id": "HK_qs6NzRYjn"
      },
      "execution_count": 53,
      "outputs": []
    },
    {
      "cell_type": "code",
      "source": [
        "training = []\n",
        "IMG_SIZE = 200\n",
        "training_data_path = '/content/drive/MyDrive/Project 2023/DRIVEN_DATA competetion/TRAIN_DATA_for_CNN'\n",
        "def createTrainingData():\n",
        "  for cat in category:\n",
        "    path = os.path.join(training_data_path, cat)\n",
        "    class_num =category.index(cat)               ######   [0,1,2,3,4,5,6,7]\n",
        "    for img in os.listdir(path):\n",
        "      img_array = cv2.imread(os.path.join(path,img))\n",
        "      new_array = cv2.resize(img_array, (IMG_SIZE, IMG_SIZE))\n",
        "      training.append([new_array, class_num])\n",
        "\n",
        "\n",
        ""
      ],
      "metadata": {
        "id": "LUrKC2ShPuNz"
      },
      "execution_count": 54,
      "outputs": []
    },
    {
      "cell_type": "code",
      "source": [
        "createTrainingData()"
      ],
      "metadata": {
        "id": "kjczE7a7RBjv"
      },
      "execution_count": 55,
      "outputs": []
    },
    {
      "cell_type": "code",
      "source": [
        "import random                                     #############  Shuffle the Dataset\n",
        "random.shuffle(training)"
      ],
      "metadata": {
        "id": "lnQzg3DBR64p"
      },
      "execution_count": 56,
      "outputs": []
    },
    {
      "cell_type": "code",
      "source": [
        "                              ############ label data"
      ],
      "metadata": {
        "id": "wyNBbNxLX04n"
      },
      "execution_count": 57,
      "outputs": []
    },
    {
      "cell_type": "code",
      "source": [
        "training[0]"
      ],
      "metadata": {
        "colab": {
          "base_uri": "https://localhost:8080/"
        },
        "id": "vripDHEjZAlN",
        "outputId": "119aef8d-3b34-41b1-84be-3d832cb5214e"
      },
      "execution_count": 58,
      "outputs": [
        {
          "output_type": "execute_result",
          "data": {
            "text/plain": [
              "[array([[[ 74,  74,  74],\n",
              "         [ 72,  72,  72],\n",
              "         [ 69,  69,  69],\n",
              "         ...,\n",
              "         [163, 163, 163],\n",
              "         [157, 157, 157],\n",
              "         [178, 178, 178]],\n",
              " \n",
              "        [[ 74,  74,  74],\n",
              "         [ 72,  72,  72],\n",
              "         [ 70,  70,  70],\n",
              "         ...,\n",
              "         [123, 123, 123],\n",
              "         [147, 147, 147],\n",
              "         [148, 148, 148]],\n",
              " \n",
              "        [[ 74,  74,  74],\n",
              "         [ 72,  72,  72],\n",
              "         [ 66,  66,  66],\n",
              "         ...,\n",
              "         [120, 120, 120],\n",
              "         [138, 138, 138],\n",
              "         [141, 141, 141]],\n",
              " \n",
              "        ...,\n",
              " \n",
              "        [[ 59, 111, 182],\n",
              "         [ 60, 100, 192],\n",
              "         [ 59,  97, 171],\n",
              "         ...,\n",
              "         [ 55,  55,  55],\n",
              "         [185, 185, 185],\n",
              "         [237, 237, 237]],\n",
              " \n",
              "        [[ 53, 109, 195],\n",
              "         [ 50, 100, 215],\n",
              "         [ 51, 106, 212],\n",
              "         ...,\n",
              "         [204, 204, 204],\n",
              "         [110, 110, 110],\n",
              "         [251, 251, 251]],\n",
              " \n",
              "        [[ 66, 119, 210],\n",
              "         [ 38,  89, 214],\n",
              "         [ 28,  88, 210],\n",
              "         ...,\n",
              "         [252, 252, 252],\n",
              "         [246, 246, 246],\n",
              "         [246, 246, 246]]], dtype=uint8),\n",
              " 6]"
            ]
          },
          "metadata": {},
          "execution_count": 58
        }
      ]
    },
    {
      "cell_type": "code",
      "source": [
        "import numpy as np\n",
        "X =[]\n",
        "y =[]\n",
        "for features, label in training:\n",
        "  X.append(features)\n",
        "  y.append(label)\n",
        "X = np.array(X).reshape(-1, IMG_SIZE, IMG_SIZE, 3)    # reshape to remove RGB i.e. 3 from (200,200,3) to get (200,200) shape"
      ],
      "metadata": {
        "id": "zKaJO00hXytg"
      },
      "execution_count": 59,
      "outputs": []
    },
    {
      "cell_type": "code",
      "source": [
        "len(X)"
      ],
      "metadata": {
        "colab": {
          "base_uri": "https://localhost:8080/"
        },
        "id": "RFfxe2EzYsqF",
        "outputId": "670a822c-910a-4518-9299-53b7895bbde2"
      },
      "execution_count": 60,
      "outputs": [
        {
          "output_type": "execute_result",
          "data": {
            "text/plain": [
              "16488"
            ]
          },
          "metadata": {},
          "execution_count": 60
        }
      ]
    },
    {
      "cell_type": "code",
      "source": [
        "X = X.astype('float32')\n",
        "X /= 255\n",
        "from keras.utils import np_utils\n",
        "Y = np_utils.to_categorical(y, 8)\n",
        "print(Y[100])\n",
        "print(shape(Y))"
      ],
      "metadata": {
        "id": "FZ7QQICaaVWt"
      },
      "execution_count": null,
      "outputs": []
    },
    {
      "cell_type": "code",
      "source": [
        "X_train, X_test, y_train, y_test = train_test_split(X, y, test_size = 0.2, random_state = 4)"
      ],
      "metadata": {
        "id": "q8m98cEzavYJ"
      },
      "execution_count": null,
      "outputs": []
    },
    {
      "cell_type": "code",
      "source": [
        "batch_size = 16\n",
        "nb_classes =4\n",
        "nb_epochs = 5\n",
        "img_rows, img_columns = 200, 200\n",
        "img_channel = 3\n",
        "nb_filters = 32\n",
        "nb_pool = 2\n",
        "nb_conv = 3\n",
        "\n",
        "model = tf.keras.Sequential([\n",
        "    tf.keras.layers.Conv2D(32, (3,3), padding='same', activation=tf.nn.relu,\n",
        "                           input_shape=(200, 200, 3)),\n",
        "    tf.keras.layers.MaxPooling2D((2, 2), strides=2),\n",
        "    tf.keras.layers.Conv2D(32, (3,3), padding='same', activation=tf.nn.relu),\n",
        "    tf.keras.layers.MaxPooling2D((2, 2), strides=2),\n",
        "    tf.keras.layers.Dropout(0.5),\n",
        "    tf.keras.layers.Flatten(),\n",
        "    tf.keras.layers.Dense(128, activation=tf.nn.relu),\n",
        "    tf.keras.layers.Dense(8,  activation=tf.nn.softmax)\n",
        "])\n",
        "model.compile(optimizer='adam',loss='sparse_categorical_crossentropy',metrics=['accuracy'])\n",
        "model.fit(X_train, y_train, batch_size = batch_size, epochs = nb_epochs, verbose = 1, validation_data = (X_test, y_test))"
      ],
      "metadata": {
        "id": "nR407qTHsN1I"
      },
      "execution_count": null,
      "outputs": []
    },
    {
      "cell_type": "code",
      "source": [
        "score = model.evaluate(X_test, y_test, verbose = 0 )\n",
        "print(\"Test Score: \", score[0])\n",
        "print(\"Test accuracy: \", score[1])"
      ],
      "metadata": {
        "id": "K6EXeQjUsbFU"
      },
      "execution_count": null,
      "outputs": []
    }
  ]
}